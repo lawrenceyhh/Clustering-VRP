{
 "cells": [
  {
   "cell_type": "code",
   "execution_count": 1,
   "outputs": [],
   "source": [
    "import osmnx as ox\n",
    "import pandas as pd\n",
    "import sys\n",
    "from geopy import distance\n",
    "from dataclasses import dataclass\n",
    "from typing import Optional, List, Dict, Tuple\n",
    "from tqdm.notebook import tqdm\n",
    "import networkx as nx\n",
    "import matplotlib.pyplot as plt\n",
    "import ast\n",
    "@dataclass\n",
    "class Node:\n",
    "    id: str\n",
    "    coordinate: Tuple[float, float]\n",
    "    demand: int\n",
    "node_data = pd.read_csv(\"LA.nodes\", sep=\"\\t\")\n",
    "greater_la_streets_box = ox.graph.graph_from_xml(filepath='LA_bbox.osm')\n",
    "chicago_neibor = ox.graph.graph_from_xml(filepath='Chichago_bbox.osm')\n",
    "G8 = ox.graph.graph_from_xml(filepath='King County.osm')\n",
    "USA_bbox = nx.union_all([greater_la_streets_box, chicago_neibor, G8])"
   ],
   "metadata": {
    "collapsed": false,
    "pycharm": {
     "name": "#%%\n"
    }
   }
  },
  {
   "cell_type": "code",
   "execution_count": 11,
   "outputs": [
    {
     "data": {
      "text/plain": "  0%|          | 0/173 [00:00<?, ?it/s]",
      "application/vnd.jupyter.widget-view+json": {
       "version_major": 2,
       "version_minor": 0,
       "model_id": "3377394a2c7b46b289c0ce2c589a1e80"
      }
     },
     "metadata": {},
     "output_type": "display_data"
    }
   ],
   "source": [
    "dict_nodes = {}\n",
    "for i in tqdm(node_data.index):\n",
    "    current_node = Node(node_data.loc[i, \"Id\"], (node_data.loc[i, \"Lon\"], node_data.loc[i, \"Lat\"]),\n",
    "                        node_data.loc[i, \"Demand\"])\n",
    "    if current_node.id not in dict_nodes.keys():\n",
    "        dict_nodes[current_node.id] = current_node"
   ],
   "metadata": {
    "collapsed": false,
    "pycharm": {
     "name": "#%%\n"
    }
   }
  },
  {
   "cell_type": "code",
   "execution_count": 14,
   "outputs": [
    {
     "name": "stderr",
     "output_type": "stream",
     "text": [
      "C:\\Program Files\\JetBrains\\PyCharm 2022.1\\plugins\\python\\helpers\\pydev\\_pydevd_bundle\\pydevd_utils.py:606: FutureWarning: iteritems is deprecated and will be removed in a future version. Use .items instead.\n",
      "  for item in s.iteritems():\n"
     ]
    },
    {
     "data": {
      "text/plain": "  0%|          | 0/173 [00:00<?, ?it/s]",
      "application/vnd.jupyter.widget-view+json": {
       "version_major": 2,
       "version_minor": 0,
       "model_id": "593e40ba419f4407acd03f0f471b1775"
      }
     },
     "metadata": {},
     "output_type": "display_data"
    },
    {
     "name": "stderr",
     "output_type": "stream",
     "text": [
      "C:\\Program Files\\JetBrains\\PyCharm 2022.1\\plugins\\python\\helpers\\pydev\\_pydevd_bundle\\pydevd_utils.py:606: FutureWarning: iteritems is deprecated and will be removed in a future version. Use .items instead.\n",
      "  for item in s.iteritems():\n"
     ]
    },
    {
     "data": {
      "text/plain": "  0%|          | 0/173 [00:00<?, ?it/s]",
      "application/vnd.jupyter.widget-view+json": {
       "version_major": 2,
       "version_minor": 0,
       "model_id": "74e44566ea3f47ecb0899c99bae9fd77"
      }
     },
     "metadata": {},
     "output_type": "display_data"
    },
    {
     "name": "stderr",
     "output_type": "stream",
     "text": [
      "C:\\Program Files\\JetBrains\\PyCharm 2022.1\\plugins\\python\\helpers\\pydev\\_pydevd_bundle\\pydevd_utils.py:606: FutureWarning: iteritems is deprecated and will be removed in a future version. Use .items instead.\n",
      "  for item in s.iteritems():\n",
      "C:\\Program Files\\JetBrains\\PyCharm 2022.1\\plugins\\python\\helpers\\pydev\\_pydevd_bundle\\pydevd_utils.py:606: FutureWarning: iteritems is deprecated and will be removed in a future version. Use .items instead.\n",
      "  for item in s.iteritems():\n"
     ]
    },
    {
     "data": {
      "text/plain": "  0%|          | 0/173 [00:00<?, ?it/s]",
      "application/vnd.jupyter.widget-view+json": {
       "version_major": 2,
       "version_minor": 0,
       "model_id": "38d549de66aa4e6bb7dcae54911bb3e7"
      }
     },
     "metadata": {},
     "output_type": "display_data"
    },
    {
     "name": "stderr",
     "output_type": "stream",
     "text": [
      "C:\\Program Files\\JetBrains\\PyCharm 2022.1\\plugins\\python\\helpers\\pydev\\_pydevd_bundle\\pydevd_utils.py:606: FutureWarning: iteritems is deprecated and will be removed in a future version. Use .items instead.\n",
      "  for item in s.iteritems():\n",
      "C:\\Program Files\\JetBrains\\PyCharm 2022.1\\plugins\\python\\helpers\\pydev\\_pydevd_bundle\\pydevd_utils.py:606: FutureWarning: iteritems is deprecated and will be removed in a future version. Use .items instead.\n",
      "  for item in s.iteritems():\n",
      "C:\\Program Files\\JetBrains\\PyCharm 2022.1\\plugins\\python\\helpers\\pydev\\_pydevd_bundle\\pydevd_utils.py:606: FutureWarning: iteritems is deprecated and will be removed in a future version. Use .items instead.\n",
      "  for item in s.iteritems():\n",
      "C:\\Program Files\\JetBrains\\PyCharm 2022.1\\plugins\\python\\helpers\\pydev\\_pydevd_bundle\\pydevd_utils.py:606: FutureWarning: iteritems is deprecated and will be removed in a future version. Use .items instead.\n",
      "  for item in s.iteritems():\n"
     ]
    },
    {
     "data": {
      "text/plain": "  0%|          | 0/173 [00:00<?, ?it/s]",
      "application/vnd.jupyter.widget-view+json": {
       "version_major": 2,
       "version_minor": 0,
       "model_id": "c5ceb9fbb10b4c43a05f8abd915799c0"
      }
     },
     "metadata": {},
     "output_type": "display_data"
    },
    {
     "data": {
      "text/plain": "  0%|          | 0/173 [00:00<?, ?it/s]",
      "application/vnd.jupyter.widget-view+json": {
       "version_major": 2,
       "version_minor": 0,
       "model_id": "f66b49c3c8e641edbf0f3d646e9815d1"
      }
     },
     "metadata": {},
     "output_type": "display_data"
    },
    {
     "data": {
      "text/plain": "  0%|          | 0/173 [00:00<?, ?it/s]",
      "application/vnd.jupyter.widget-view+json": {
       "version_major": 2,
       "version_minor": 0,
       "model_id": "88264b2efd694c9bbcc6adec29d48d4f"
      }
     },
     "metadata": {},
     "output_type": "display_data"
    },
    {
     "data": {
      "text/plain": "  0%|          | 0/173 [00:00<?, ?it/s]",
      "application/vnd.jupyter.widget-view+json": {
       "version_major": 2,
       "version_minor": 0,
       "model_id": "e9f8387b99484328978fa623edfa1afe"
      }
     },
     "metadata": {},
     "output_type": "display_data"
    },
    {
     "data": {
      "text/plain": "  0%|          | 0/173 [00:00<?, ?it/s]",
      "application/vnd.jupyter.widget-view+json": {
       "version_major": 2,
       "version_minor": 0,
       "model_id": "cbba8a2946094cbca613937e7b32def4"
      }
     },
     "metadata": {},
     "output_type": "display_data"
    },
    {
     "data": {
      "text/plain": "  0%|          | 0/173 [00:00<?, ?it/s]",
      "application/vnd.jupyter.widget-view+json": {
       "version_major": 2,
       "version_minor": 0,
       "model_id": "cafc149ddcea4eada320449f948967a7"
      }
     },
     "metadata": {},
     "output_type": "display_data"
    },
    {
     "data": {
      "text/plain": "  0%|          | 0/173 [00:00<?, ?it/s]",
      "application/vnd.jupyter.widget-view+json": {
       "version_major": 2,
       "version_minor": 0,
       "model_id": "a2c0e68c8094408c8b945ee9cd093aed"
      }
     },
     "metadata": {},
     "output_type": "display_data"
    },
    {
     "data": {
      "text/plain": "  0%|          | 0/173 [00:00<?, ?it/s]",
      "application/vnd.jupyter.widget-view+json": {
       "version_major": 2,
       "version_minor": 0,
       "model_id": "89526680c563499696667a83469172ad"
      }
     },
     "metadata": {},
     "output_type": "display_data"
    },
    {
     "data": {
      "text/plain": "  0%|          | 0/173 [00:00<?, ?it/s]",
      "application/vnd.jupyter.widget-view+json": {
       "version_major": 2,
       "version_minor": 0,
       "model_id": "645c544254bf49cbb33ae7fcf44918a8"
      }
     },
     "metadata": {},
     "output_type": "display_data"
    },
    {
     "data": {
      "text/plain": "  0%|          | 0/173 [00:00<?, ?it/s]",
      "application/vnd.jupyter.widget-view+json": {
       "version_major": 2,
       "version_minor": 0,
       "model_id": "5bbd3de446864df096932cae2d51d150"
      }
     },
     "metadata": {},
     "output_type": "display_data"
    },
    {
     "data": {
      "text/plain": "  0%|          | 0/173 [00:00<?, ?it/s]",
      "application/vnd.jupyter.widget-view+json": {
       "version_major": 2,
       "version_minor": 0,
       "model_id": "4050429b732840bfa13ca6259cb4ed1c"
      }
     },
     "metadata": {},
     "output_type": "display_data"
    },
    {
     "data": {
      "text/plain": "  0%|          | 0/173 [00:00<?, ?it/s]",
      "application/vnd.jupyter.widget-view+json": {
       "version_major": 2,
       "version_minor": 0,
       "model_id": "40fd9cc19afe4473971e3d94357edacb"
      }
     },
     "metadata": {},
     "output_type": "display_data"
    },
    {
     "data": {
      "text/plain": "  0%|          | 0/173 [00:00<?, ?it/s]",
      "application/vnd.jupyter.widget-view+json": {
       "version_major": 2,
       "version_minor": 0,
       "model_id": "1ec3caa2276a45d9b154f35e85029561"
      }
     },
     "metadata": {},
     "output_type": "display_data"
    },
    {
     "data": {
      "text/plain": "  0%|          | 0/173 [00:00<?, ?it/s]",
      "application/vnd.jupyter.widget-view+json": {
       "version_major": 2,
       "version_minor": 0,
       "model_id": "6d70ae7777e3488cbf44a4b3b1f662ee"
      }
     },
     "metadata": {},
     "output_type": "display_data"
    },
    {
     "data": {
      "text/plain": "  0%|          | 0/173 [00:00<?, ?it/s]",
      "application/vnd.jupyter.widget-view+json": {
       "version_major": 2,
       "version_minor": 0,
       "model_id": "37fa557c9afa4dcdbcd2e8d3b79b2b61"
      }
     },
     "metadata": {},
     "output_type": "display_data"
    },
    {
     "data": {
      "text/plain": "  0%|          | 0/173 [00:00<?, ?it/s]",
      "application/vnd.jupyter.widget-view+json": {
       "version_major": 2,
       "version_minor": 0,
       "model_id": "4d7dd1460ca14dc581b180aa51f95099"
      }
     },
     "metadata": {},
     "output_type": "display_data"
    },
    {
     "data": {
      "text/plain": "  0%|          | 0/173 [00:00<?, ?it/s]",
      "application/vnd.jupyter.widget-view+json": {
       "version_major": 2,
       "version_minor": 0,
       "model_id": "f368ffbfc42c4c46bf7d7ed6b7742159"
      }
     },
     "metadata": {},
     "output_type": "display_data"
    },
    {
     "data": {
      "text/plain": "  0%|          | 0/173 [00:00<?, ?it/s]",
      "application/vnd.jupyter.widget-view+json": {
       "version_major": 2,
       "version_minor": 0,
       "model_id": "9249663c708b4a33a97080bc433f5795"
      }
     },
     "metadata": {},
     "output_type": "display_data"
    },
    {
     "data": {
      "text/plain": "  0%|          | 0/173 [00:00<?, ?it/s]",
      "application/vnd.jupyter.widget-view+json": {
       "version_major": 2,
       "version_minor": 0,
       "model_id": "827e3a5335ce45f583d9e4841c48ee1c"
      }
     },
     "metadata": {},
     "output_type": "display_data"
    },
    {
     "data": {
      "text/plain": "  0%|          | 0/173 [00:00<?, ?it/s]",
      "application/vnd.jupyter.widget-view+json": {
       "version_major": 2,
       "version_minor": 0,
       "model_id": "92b47d8f70954655904be55482179f8b"
      }
     },
     "metadata": {},
     "output_type": "display_data"
    },
    {
     "data": {
      "text/plain": "  0%|          | 0/173 [00:00<?, ?it/s]",
      "application/vnd.jupyter.widget-view+json": {
       "version_major": 2,
       "version_minor": 0,
       "model_id": "e80785f2ad3045d380ca781b94833eb8"
      }
     },
     "metadata": {},
     "output_type": "display_data"
    },
    {
     "data": {
      "text/plain": "  0%|          | 0/173 [00:00<?, ?it/s]",
      "application/vnd.jupyter.widget-view+json": {
       "version_major": 2,
       "version_minor": 0,
       "model_id": "bb707c39a1cc42449be7c9feee55bbbf"
      }
     },
     "metadata": {},
     "output_type": "display_data"
    },
    {
     "data": {
      "text/plain": "  0%|          | 0/173 [00:00<?, ?it/s]",
      "application/vnd.jupyter.widget-view+json": {
       "version_major": 2,
       "version_minor": 0,
       "model_id": "b29ad3f96ede48528fd8a14fe6bb4bc3"
      }
     },
     "metadata": {},
     "output_type": "display_data"
    },
    {
     "data": {
      "text/plain": "  0%|          | 0/173 [00:00<?, ?it/s]",
      "application/vnd.jupyter.widget-view+json": {
       "version_major": 2,
       "version_minor": 0,
       "model_id": "4706d05abeba4ef196b1ee681f7c71ce"
      }
     },
     "metadata": {},
     "output_type": "display_data"
    },
    {
     "data": {
      "text/plain": "  0%|          | 0/173 [00:00<?, ?it/s]",
      "application/vnd.jupyter.widget-view+json": {
       "version_major": 2,
       "version_minor": 0,
       "model_id": "91b2ab238bc0466f9b5af9a9a03bd27f"
      }
     },
     "metadata": {},
     "output_type": "display_data"
    },
    {
     "data": {
      "text/plain": "  0%|          | 0/173 [00:00<?, ?it/s]",
      "application/vnd.jupyter.widget-view+json": {
       "version_major": 2,
       "version_minor": 0,
       "model_id": "f9168b2101204b5e8cdda2efa7ff1b22"
      }
     },
     "metadata": {},
     "output_type": "display_data"
    },
    {
     "data": {
      "text/plain": "  0%|          | 0/173 [00:00<?, ?it/s]",
      "application/vnd.jupyter.widget-view+json": {
       "version_major": 2,
       "version_minor": 0,
       "model_id": "b9037c52c17140aea76dedde4c746ab7"
      }
     },
     "metadata": {},
     "output_type": "display_data"
    },
    {
     "data": {
      "text/plain": "  0%|          | 0/173 [00:00<?, ?it/s]",
      "application/vnd.jupyter.widget-view+json": {
       "version_major": 2,
       "version_minor": 0,
       "model_id": "423d7b7288c64c01be586f51e7af719d"
      }
     },
     "metadata": {},
     "output_type": "display_data"
    },
    {
     "data": {
      "text/plain": "  0%|          | 0/173 [00:00<?, ?it/s]",
      "application/vnd.jupyter.widget-view+json": {
       "version_major": 2,
       "version_minor": 0,
       "model_id": "7b6e32d412084a31ad0f69fb4bfd644e"
      }
     },
     "metadata": {},
     "output_type": "display_data"
    },
    {
     "data": {
      "text/plain": "  0%|          | 0/173 [00:00<?, ?it/s]",
      "application/vnd.jupyter.widget-view+json": {
       "version_major": 2,
       "version_minor": 0,
       "model_id": "932a13f230834a789eef8d9c4e13117b"
      }
     },
     "metadata": {},
     "output_type": "display_data"
    },
    {
     "data": {
      "text/plain": "  0%|          | 0/173 [00:00<?, ?it/s]",
      "application/vnd.jupyter.widget-view+json": {
       "version_major": 2,
       "version_minor": 0,
       "model_id": "ffa560fc4c8d4be29b7dcc1a7768c374"
      }
     },
     "metadata": {},
     "output_type": "display_data"
    },
    {
     "data": {
      "text/plain": "  0%|          | 0/173 [00:00<?, ?it/s]",
      "application/vnd.jupyter.widget-view+json": {
       "version_major": 2,
       "version_minor": 0,
       "model_id": "abc21a517cff476f87430e8e8a86b574"
      }
     },
     "metadata": {},
     "output_type": "display_data"
    },
    {
     "data": {
      "text/plain": "  0%|          | 0/173 [00:00<?, ?it/s]",
      "application/vnd.jupyter.widget-view+json": {
       "version_major": 2,
       "version_minor": 0,
       "model_id": "ad74869f4817456086d1b7ee79e19e98"
      }
     },
     "metadata": {},
     "output_type": "display_data"
    },
    {
     "data": {
      "text/plain": "  0%|          | 0/173 [00:00<?, ?it/s]",
      "application/vnd.jupyter.widget-view+json": {
       "version_major": 2,
       "version_minor": 0,
       "model_id": "045e203e1f5e41bdb98cbd4a0d947053"
      }
     },
     "metadata": {},
     "output_type": "display_data"
    },
    {
     "data": {
      "text/plain": "  0%|          | 0/173 [00:00<?, ?it/s]",
      "application/vnd.jupyter.widget-view+json": {
       "version_major": 2,
       "version_minor": 0,
       "model_id": "31361cda1e04476f80d365f6a87cfb78"
      }
     },
     "metadata": {},
     "output_type": "display_data"
    },
    {
     "name": "stderr",
     "output_type": "stream",
     "text": [
      "C:\\Program Files\\JetBrains\\PyCharm 2022.1\\plugins\\python\\helpers\\pydev\\_pydevd_bundle\\pydevd_utils.py:606: FutureWarning: iteritems is deprecated and will be removed in a future version. Use .items instead.\n",
      "  for item in s.iteritems():\n",
      "C:\\Program Files\\JetBrains\\PyCharm 2022.1\\plugins\\python\\helpers\\pydev\\_pydevd_bundle\\pydevd_utils.py:606: FutureWarning: iteritems is deprecated and will be removed in a future version. Use .items instead.\n",
      "  for item in s.iteritems():\n"
     ]
    },
    {
     "data": {
      "text/plain": "  0%|          | 0/173 [00:00<?, ?it/s]",
      "application/vnd.jupyter.widget-view+json": {
       "version_major": 2,
       "version_minor": 0,
       "model_id": "a3ca16518a5e4202b1aaa3483358d621"
      }
     },
     "metadata": {},
     "output_type": "display_data"
    },
    {
     "data": {
      "text/plain": "  0%|          | 0/173 [00:00<?, ?it/s]",
      "application/vnd.jupyter.widget-view+json": {
       "version_major": 2,
       "version_minor": 0,
       "model_id": "d9924ecc4edd46088d830442a306f6e0"
      }
     },
     "metadata": {},
     "output_type": "display_data"
    },
    {
     "data": {
      "text/plain": "  0%|          | 0/173 [00:00<?, ?it/s]",
      "application/vnd.jupyter.widget-view+json": {
       "version_major": 2,
       "version_minor": 0,
       "model_id": "46b5aaaaba544eaba337df2f0287213c"
      }
     },
     "metadata": {},
     "output_type": "display_data"
    },
    {
     "data": {
      "text/plain": "  0%|          | 0/173 [00:00<?, ?it/s]",
      "application/vnd.jupyter.widget-view+json": {
       "version_major": 2,
       "version_minor": 0,
       "model_id": "be7012491ab4469e8a0c3252c3838dfe"
      }
     },
     "metadata": {},
     "output_type": "display_data"
    },
    {
     "data": {
      "text/plain": "  0%|          | 0/173 [00:00<?, ?it/s]",
      "application/vnd.jupyter.widget-view+json": {
       "version_major": 2,
       "version_minor": 0,
       "model_id": "50862d7f0de84f8da3efb144a1aa1ce5"
      }
     },
     "metadata": {},
     "output_type": "display_data"
    },
    {
     "data": {
      "text/plain": "  0%|          | 0/173 [00:00<?, ?it/s]",
      "application/vnd.jupyter.widget-view+json": {
       "version_major": 2,
       "version_minor": 0,
       "model_id": "aac82b2b70834b3ba4ea3a7e5871466e"
      }
     },
     "metadata": {},
     "output_type": "display_data"
    },
    {
     "data": {
      "text/plain": "  0%|          | 0/173 [00:00<?, ?it/s]",
      "application/vnd.jupyter.widget-view+json": {
       "version_major": 2,
       "version_minor": 0,
       "model_id": "4d34590a50ce4764b59ea6c9453f07bd"
      }
     },
     "metadata": {},
     "output_type": "display_data"
    },
    {
     "data": {
      "text/plain": "  0%|          | 0/173 [00:00<?, ?it/s]",
      "application/vnd.jupyter.widget-view+json": {
       "version_major": 2,
       "version_minor": 0,
       "model_id": "38ea13f02e324d51867b336f145d33ed"
      }
     },
     "metadata": {},
     "output_type": "display_data"
    },
    {
     "data": {
      "text/plain": "  0%|          | 0/173 [00:00<?, ?it/s]",
      "application/vnd.jupyter.widget-view+json": {
       "version_major": 2,
       "version_minor": 0,
       "model_id": "e5138983000d4d80bfd261af77b6a674"
      }
     },
     "metadata": {},
     "output_type": "display_data"
    },
    {
     "data": {
      "text/plain": "  0%|          | 0/173 [00:00<?, ?it/s]",
      "application/vnd.jupyter.widget-view+json": {
       "version_major": 2,
       "version_minor": 0,
       "model_id": "4dd0a8496c91444fa02b06d1d59bdce6"
      }
     },
     "metadata": {},
     "output_type": "display_data"
    },
    {
     "data": {
      "text/plain": "  0%|          | 0/173 [00:00<?, ?it/s]",
      "application/vnd.jupyter.widget-view+json": {
       "version_major": 2,
       "version_minor": 0,
       "model_id": "a3de7641ab6d48b9966871660137f95b"
      }
     },
     "metadata": {},
     "output_type": "display_data"
    },
    {
     "data": {
      "text/plain": "  0%|          | 0/173 [00:00<?, ?it/s]",
      "application/vnd.jupyter.widget-view+json": {
       "version_major": 2,
       "version_minor": 0,
       "model_id": "306ad433aa3241579c4ccaa52057bd22"
      }
     },
     "metadata": {},
     "output_type": "display_data"
    },
    {
     "data": {
      "text/plain": "  0%|          | 0/173 [00:00<?, ?it/s]",
      "application/vnd.jupyter.widget-view+json": {
       "version_major": 2,
       "version_minor": 0,
       "model_id": "84f5ff9383064c80a355da4bb51c2375"
      }
     },
     "metadata": {},
     "output_type": "display_data"
    },
    {
     "data": {
      "text/plain": "  0%|          | 0/173 [00:00<?, ?it/s]",
      "application/vnd.jupyter.widget-view+json": {
       "version_major": 2,
       "version_minor": 0,
       "model_id": "a1d19bf749134acf82e2fc20f535d6cc"
      }
     },
     "metadata": {},
     "output_type": "display_data"
    },
    {
     "data": {
      "text/plain": "  0%|          | 0/173 [00:00<?, ?it/s]",
      "application/vnd.jupyter.widget-view+json": {
       "version_major": 2,
       "version_minor": 0,
       "model_id": "07f932b00b2246ac929957955a8274ac"
      }
     },
     "metadata": {},
     "output_type": "display_data"
    },
    {
     "data": {
      "text/plain": "  0%|          | 0/173 [00:00<?, ?it/s]",
      "application/vnd.jupyter.widget-view+json": {
       "version_major": 2,
       "version_minor": 0,
       "model_id": "2f770b201c5b43319c35386316609a6c"
      }
     },
     "metadata": {},
     "output_type": "display_data"
    },
    {
     "data": {
      "text/plain": "  0%|          | 0/173 [00:00<?, ?it/s]",
      "application/vnd.jupyter.widget-view+json": {
       "version_major": 2,
       "version_minor": 0,
       "model_id": "75190f5350c4406bbf8428606ce40111"
      }
     },
     "metadata": {},
     "output_type": "display_data"
    },
    {
     "data": {
      "text/plain": "  0%|          | 0/173 [00:00<?, ?it/s]",
      "application/vnd.jupyter.widget-view+json": {
       "version_major": 2,
       "version_minor": 0,
       "model_id": "2fc35c28c37d4236b7ac5b6d73232ce5"
      }
     },
     "metadata": {},
     "output_type": "display_data"
    },
    {
     "data": {
      "text/plain": "  0%|          | 0/173 [00:00<?, ?it/s]",
      "application/vnd.jupyter.widget-view+json": {
       "version_major": 2,
       "version_minor": 0,
       "model_id": "2e302f9644284bfdb0a71cf40ece16f8"
      }
     },
     "metadata": {},
     "output_type": "display_data"
    },
    {
     "data": {
      "text/plain": "  0%|          | 0/173 [00:00<?, ?it/s]",
      "application/vnd.jupyter.widget-view+json": {
       "version_major": 2,
       "version_minor": 0,
       "model_id": "b05b2ede017349b6a438a335b968876e"
      }
     },
     "metadata": {},
     "output_type": "display_data"
    },
    {
     "name": "stderr",
     "output_type": "stream",
     "text": [
      "C:\\Program Files\\JetBrains\\PyCharm 2022.1\\plugins\\python\\helpers\\pydev\\_pydevd_bundle\\pydevd_utils.py:606: FutureWarning: iteritems is deprecated and will be removed in a future version. Use .items instead.\n",
      "  for item in s.iteritems():\n"
     ]
    },
    {
     "data": {
      "text/plain": "  0%|          | 0/173 [00:00<?, ?it/s]",
      "application/vnd.jupyter.widget-view+json": {
       "version_major": 2,
       "version_minor": 0,
       "model_id": "f0391fb3e17648109febade8fffd0327"
      }
     },
     "metadata": {},
     "output_type": "display_data"
    },
    {
     "data": {
      "text/plain": "  0%|          | 0/173 [00:00<?, ?it/s]",
      "application/vnd.jupyter.widget-view+json": {
       "version_major": 2,
       "version_minor": 0,
       "model_id": "b8e0b59496ce4830b772c0b7cc74b1a5"
      }
     },
     "metadata": {},
     "output_type": "display_data"
    },
    {
     "data": {
      "text/plain": "  0%|          | 0/173 [00:00<?, ?it/s]",
      "application/vnd.jupyter.widget-view+json": {
       "version_major": 2,
       "version_minor": 0,
       "model_id": "54954269a9ce4ecbadd11443ab822095"
      }
     },
     "metadata": {},
     "output_type": "display_data"
    },
    {
     "ename": "KeyboardInterrupt",
     "evalue": "",
     "output_type": "error",
     "traceback": [
      "\u001B[1;31m---------------------------------------------------------------------------\u001B[0m",
      "\u001B[1;31mKeyboardInterrupt\u001B[0m                         Traceback (most recent call last)",
      "Cell \u001B[1;32mIn[14], line 26\u001B[0m\n\u001B[0;32m     24\u001B[0m \u001B[38;5;28;01mtry\u001B[39;00m:\n\u001B[0;32m     25\u001B[0m     \u001B[38;5;28;01mif\u001B[39;00m (node_one\u001B[38;5;241m.\u001B[39mcoordinate[\u001B[38;5;241m1\u001B[39m] \u001B[38;5;241m<\u001B[39m \u001B[38;5;241m35\u001B[39m) \u001B[38;5;241m&\u001B[39m (node_two\u001B[38;5;241m.\u001B[39mcoordinate[\u001B[38;5;241m1\u001B[39m] \u001B[38;5;241m<\u001B[39m\u001B[38;5;241m35\u001B[39m):\n\u001B[1;32m---> 26\u001B[0m         orig_node \u001B[38;5;241m=\u001B[39m \u001B[43mox\u001B[49m\u001B[38;5;241;43m.\u001B[39;49m\u001B[43mnearest_nodes\u001B[49m\u001B[43m(\u001B[49m\u001B[43mUSA_bbox\u001B[49m\u001B[43m,\u001B[49m\u001B[43m \u001B[49m\u001B[43mnode_one\u001B[49m\u001B[38;5;241;43m.\u001B[39;49m\u001B[43mcoordinate\u001B[49m\u001B[43m[\u001B[49m\u001B[38;5;241;43m0\u001B[39;49m\u001B[43m]\u001B[49m\u001B[43m,\u001B[49m\u001B[43m \u001B[49m\u001B[43mnode_one\u001B[49m\u001B[38;5;241;43m.\u001B[39;49m\u001B[43mcoordinate\u001B[49m\u001B[43m[\u001B[49m\u001B[38;5;241;43m1\u001B[39;49m\u001B[43m]\u001B[49m\u001B[43m)\u001B[49m\n\u001B[0;32m     27\u001B[0m         dest_node \u001B[38;5;241m=\u001B[39m ox\u001B[38;5;241m.\u001B[39mnearest_nodes(USA_bbox, node_two\u001B[38;5;241m.\u001B[39mcoordinate[\u001B[38;5;241m0\u001B[39m], node_two\u001B[38;5;241m.\u001B[39mcoordinate[\u001B[38;5;241m1\u001B[39m])\n\u001B[0;32m     28\u001B[0m         perfect_distance \u001B[38;5;241m=\u001B[39m \u001B[38;5;241m0.001\u001B[39m\u001B[38;5;241m*\u001B[39mnx\u001B[38;5;241m.\u001B[39mshortest_path_length(USA_bbox, orig_node, dest_node, method\u001B[38;5;241m=\u001B[39m\u001B[38;5;124m'\u001B[39m\u001B[38;5;124mdijkstra\u001B[39m\u001B[38;5;124m'\u001B[39m, weight\u001B[38;5;241m=\u001B[39m\u001B[38;5;124m'\u001B[39m\u001B[38;5;124mlength\u001B[39m\u001B[38;5;124m'\u001B[39m)\n",
      "File \u001B[1;32m~\\scoop\\apps\\python\\current\\lib\\site-packages\\osmnx\\distance.py:220\u001B[0m, in \u001B[0;36mnearest_nodes\u001B[1;34m(G, X, Y, return_dist)\u001B[0m\n\u001B[0;32m    218\u001B[0m nodes_rad \u001B[38;5;241m=\u001B[39m np\u001B[38;5;241m.\u001B[39mdeg2rad(nodes[[\u001B[38;5;124m\"\u001B[39m\u001B[38;5;124my\u001B[39m\u001B[38;5;124m\"\u001B[39m, \u001B[38;5;124m\"\u001B[39m\u001B[38;5;124mx\u001B[39m\u001B[38;5;124m\"\u001B[39m]])\n\u001B[0;32m    219\u001B[0m points_rad \u001B[38;5;241m=\u001B[39m np\u001B[38;5;241m.\u001B[39mdeg2rad(np\u001B[38;5;241m.\u001B[39marray([Y, X])\u001B[38;5;241m.\u001B[39mT)\n\u001B[1;32m--> 220\u001B[0m dist, pos \u001B[38;5;241m=\u001B[39m \u001B[43mBallTree\u001B[49m\u001B[43m(\u001B[49m\u001B[43mnodes_rad\u001B[49m\u001B[43m,\u001B[49m\u001B[43m \u001B[49m\u001B[43mmetric\u001B[49m\u001B[38;5;241;43m=\u001B[39;49m\u001B[38;5;124;43m\"\u001B[39;49m\u001B[38;5;124;43mhaversine\u001B[39;49m\u001B[38;5;124;43m\"\u001B[39;49m\u001B[43m)\u001B[49m\u001B[38;5;241;43m.\u001B[39;49m\u001B[43mquery\u001B[49m(points_rad, k\u001B[38;5;241m=\u001B[39m\u001B[38;5;241m1\u001B[39m)\n\u001B[0;32m    221\u001B[0m dist \u001B[38;5;241m=\u001B[39m dist[:, \u001B[38;5;241m0\u001B[39m] \u001B[38;5;241m*\u001B[39m EARTH_RADIUS_M  \u001B[38;5;66;03m# convert radians -> meters\u001B[39;00m\n\u001B[0;32m    222\u001B[0m nn \u001B[38;5;241m=\u001B[39m nodes\u001B[38;5;241m.\u001B[39mindex[pos[:, \u001B[38;5;241m0\u001B[39m]]\n",
      "\u001B[1;31mKeyboardInterrupt\u001B[0m: "
     ]
    }
   ],
   "source": [
    "list_routes = []\n",
    "result_df = pd.DataFrame()\n",
    "current_index = len(result_df)\n",
    "for node_one_id, node_one in tqdm(dict_nodes.items()):\n",
    "    for node_two_id, node_two in tqdm(dict_nodes.items()):\n",
    "        current_index = len(result_df)\n",
    "        result_df.loc[current_index, 'Id_x'] = node_two_id\n",
    "        result_df.loc[current_index, 'Lon_x'] = node_two.coordinate[0]\n",
    "        result_df.loc[current_index, 'Lat_x'] = node_two.coordinate[1]\n",
    "        result_df.loc[current_index, 'Id_y'] = node_one_id\n",
    "        result_df.loc[current_index, 'Lon_y'] = node_one.coordinate[0]\n",
    "        result_df.loc[current_index, 'Lat_y'] = node_one.coordinate[1]\n",
    "        if (node_one_id, node_two_id) in list_routes:\n",
    "            continue\n",
    "        if (node_two_id, node_one_id) in list_routes:\n",
    "            cond = (result_df['Id_y'] == node_two_id) & (result_df['Id_x'] == node_one_id)\n",
    "            result = result_df[cond].distance.values[0]\n",
    "            result_df.loc[current_index, 'distance'] = result\n",
    "            continue\n",
    "        if node_one_id == node_two_id:\n",
    "            result_df.loc[current_index, 'distance'] = 100000\n",
    "        else:\n",
    "            list_routes.append((node_one_id, node_two_id))\n",
    "            try:\n",
    "                if (node_one.coordinate[1] < 35) & (node_two.coordinate[1] <35):\n",
    "                    orig_node = ox.nearest_nodes(USA_bbox, node_one.coordinate[0], node_one.coordinate[1])\n",
    "                    dest_node = ox.nearest_nodes(USA_bbox, node_two.coordinate[0], node_two.coordinate[1])\n",
    "                    perfect_distance = 0.001*nx.shortest_path_length(USA_bbox, orig_node, dest_node, method='dijkstra', weight='length')\n",
    "                    result_df.loc[current_index, 'distance'] = perfect_distance\n",
    "                elif (node_one.coordinate[1] < 43) & (node_two.coordinate[1] <43) & (node_one.coordinate[1]>40) & (node_two.coordinate[1]>40):\n",
    "                    orig_node = ox.nearest_nodes(USA_bbox, node_one.coordinate[0], node_one.coordinate[1])\n",
    "                    dest_node = ox.nearest_nodes(USA_bbox, node_two.coordinate[0], node_two.coordinate[1])\n",
    "                    perfect_distance = 0.001*nx.shortest_path_length(USA_bbox, orig_node, dest_node, method='dijkstra', weight='length')\n",
    "                    result_df.loc[current_index, 'distance'] = perfect_distance\n",
    "                elif (node_one.coordinate[1] < 48) & (node_two.coordinate[1] <48) & (node_one.coordinate[1]>45) & (node_two.coordinate[1]>45):\n",
    "                    orig_node = ox.nearest_nodes(USA_bbox, node_one.coordinate[0], node_one.coordinate[1])\n",
    "                    dest_node = ox.nearest_nodes(USA_bbox, node_two.coordinate[0], node_two.coordinate[1])\n",
    "                    perfect_distance = 0.001*nx.shortest_path_length(USA_bbox, orig_node, dest_node, method='dijkstra', weight='length')\n",
    "                    result_df.loc[current_index, 'distance'] = perfect_distance\n",
    "                else:\n",
    "                    result_df.loc[current_index, 'distance'] = 2000\n",
    "            except nx.NetworkXNoPath:\n",
    "                result_df.loc[current_index, 'distance'] = distance.distance((node_one.coordinate[1], node_one.coordinate[0]),\n",
    "                                                              (node_two.coordinate[1], node_two.coordinate[0])).km\n",
    "\n",
    "        result_df.to_csv(\"USA_0325.routes\",  index=False)"
   ],
   "metadata": {
    "collapsed": false,
    "pycharm": {
     "name": "#%%\n"
    }
   }
  }
 ],
 "metadata": {
  "kernelspec": {
   "display_name": "Python 3",
   "language": "python",
   "name": "python3"
  },
  "language_info": {
   "codemirror_mode": {
    "name": "ipython",
    "version": 2
   },
   "file_extension": ".py",
   "mimetype": "text/x-python",
   "name": "python",
   "nbconvert_exporter": "python",
   "pygments_lexer": "ipython2",
   "version": "2.7.6"
  }
 },
 "nbformat": 4,
 "nbformat_minor": 0
}