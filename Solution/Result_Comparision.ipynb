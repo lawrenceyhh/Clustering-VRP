{
 "cells": [
  {
   "cell_type": "code",
   "execution_count": 1,
   "id": "5b66d71b",
   "metadata": {},
   "outputs": [],
   "source": [
    "import json\n",
    "import pandas as pd\n",
    "import os"
   ]
  },
  {
   "cell_type": "code",
   "execution_count": 2,
   "id": "f3c672d9",
   "metadata": {},
   "outputs": [],
   "source": [
    "all_results = [i for i in os.listdir() if i.endswith(\".json\")]"
   ]
  },
  {
   "cell_type": "code",
   "execution_count": 15,
   "id": "3bd6e523",
   "metadata": {},
   "outputs": [
    {
     "name": "stderr",
     "output_type": "stream",
     "text": [
      "C:\\Users\\lawre\\AppData\\Local\\Temp\\ipykernel_212040\\246917078.py:9: FutureWarning: The frame.append method is deprecated and will be removed from pandas in a future version. Use pandas.concat instead.\n",
      "  df = df.append(result_dict, ignore_index=True)\n",
      "C:\\Users\\lawre\\AppData\\Local\\Temp\\ipykernel_212040\\246917078.py:9: FutureWarning: The frame.append method is deprecated and will be removed from pandas in a future version. Use pandas.concat instead.\n",
      "  df = df.append(result_dict, ignore_index=True)\n",
      "C:\\Users\\lawre\\AppData\\Local\\Temp\\ipykernel_212040\\246917078.py:9: FutureWarning: The frame.append method is deprecated and will be removed from pandas in a future version. Use pandas.concat instead.\n",
      "  df = df.append(result_dict, ignore_index=True)\n",
      "C:\\Users\\lawre\\AppData\\Local\\Temp\\ipykernel_212040\\246917078.py:9: FutureWarning: The frame.append method is deprecated and will be removed from pandas in a future version. Use pandas.concat instead.\n",
      "  df = df.append(result_dict, ignore_index=True)\n",
      "C:\\Users\\lawre\\AppData\\Local\\Temp\\ipykernel_212040\\246917078.py:9: FutureWarning: The frame.append method is deprecated and will be removed from pandas in a future version. Use pandas.concat instead.\n",
      "  df = df.append(result_dict, ignore_index=True)\n"
     ]
    }
   ],
   "source": [
    "df = pd.DataFrame()\n",
    "for result_name in all_results:\n",
    "    model = result_name[6:-12]\n",
    "    if model == '':\n",
    "        model = \"no_cluster\"\n",
    "    result_dict = json.load(open(result_name))\n",
    "    del result_dict['solution']\n",
    "    result_dict['Model'] = model\n",
    "    df = df.append(result_dict, ignore_index=True)"
   ]
  },
  {
   "cell_type": "code",
   "execution_count": 16,
   "id": "55608fd0",
   "metadata": {},
   "outputs": [
    {
     "data": {
      "text/html": [
       "<div>\n",
       "<style scoped>\n",
       "    .dataframe tbody tr th:only-of-type {\n",
       "        vertical-align: middle;\n",
       "    }\n",
       "\n",
       "    .dataframe tbody tr th {\n",
       "        vertical-align: top;\n",
       "    }\n",
       "\n",
       "    .dataframe thead th {\n",
       "        text-align: right;\n",
       "    }\n",
       "</style>\n",
       "<table border=\"1\" class=\"dataframe\">\n",
       "  <thead>\n",
       "    <tr style=\"text-align: right;\">\n",
       "      <th></th>\n",
       "      <th>obj_value</th>\n",
       "      <th>runtime</th>\n",
       "      <th>mip_gap</th>\n",
       "      <th>Model</th>\n",
       "    </tr>\n",
       "  </thead>\n",
       "  <tbody>\n",
       "    <tr>\n",
       "      <th>0</th>\n",
       "      <td>942073.554165</td>\n",
       "      <td>120.067000</td>\n",
       "      <td>0.027837</td>\n",
       "      <td>kmed_r5</td>\n",
       "    </tr>\n",
       "    <tr>\n",
       "      <th>1</th>\n",
       "      <td>934923.655473</td>\n",
       "      <td>120.083000</td>\n",
       "      <td>0.019576</td>\n",
       "      <td>km_dbscan_r5</td>\n",
       "    </tr>\n",
       "    <tr>\n",
       "      <th>2</th>\n",
       "      <td>962740.793900</td>\n",
       "      <td>100.457520</td>\n",
       "      <td>0.000063</td>\n",
       "      <td>km_r5</td>\n",
       "    </tr>\n",
       "    <tr>\n",
       "      <th>3</th>\n",
       "      <td>918408.247928</td>\n",
       "      <td>10800.324259</td>\n",
       "      <td>0.050551</td>\n",
       "      <td>Raw</td>\n",
       "    </tr>\n",
       "    <tr>\n",
       "      <th>4</th>\n",
       "      <td>812657.195600</td>\n",
       "      <td>120.066000</td>\n",
       "      <td>0.000527</td>\n",
       "      <td>som_r5</td>\n",
       "    </tr>\n",
       "  </tbody>\n",
       "</table>\n",
       "</div>"
      ],
      "text/plain": [
       "       obj_value       runtime   mip_gap         Model\n",
       "0  942073.554165    120.067000  0.027837       kmed_r5\n",
       "1  934923.655473    120.083000  0.019576  km_dbscan_r5\n",
       "2  962740.793900    100.457520  0.000063         km_r5\n",
       "3  918408.247928  10800.324259  0.050551           Raw\n",
       "4  812657.195600    120.066000  0.000527        som_r5"
      ]
     },
     "execution_count": 16,
     "metadata": {},
     "output_type": "execute_result"
    }
   ],
   "source": [
    "df"
   ]
  }
 ],
 "metadata": {
  "kernelspec": {
   "display_name": "Python 3 (ipykernel)",
   "language": "python",
   "name": "python3"
  },
  "language_info": {
   "codemirror_mode": {
    "name": "ipython",
    "version": 3
   },
   "file_extension": ".py",
   "mimetype": "text/x-python",
   "name": "python",
   "nbconvert_exporter": "python",
   "pygments_lexer": "ipython3",
   "version": "3.9.12"
  }
 },
 "nbformat": 4,
 "nbformat_minor": 5
}
