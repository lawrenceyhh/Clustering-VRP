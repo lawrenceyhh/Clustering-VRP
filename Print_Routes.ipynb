{
 "cells": [
  {
   "cell_type": "code",
   "execution_count": 21,
   "id": "246a088b",
   "metadata": {},
   "outputs": [
    {
     "name": "stdout",
     "output_type": "stream",
     "text": [
      "The autoreload extension is already loaded. To reload it, use:\n",
      "  %reload_ext autoreload\n"
     ]
    }
   ],
   "source": [
    "from Models import run_F4\n",
    "from Data.Data_Parser import fetch_all_dataset\n",
    "from Solution.Map_Printer import osm_print_cluster_tours, COLOR_LIST\n",
    "from Cluster_MILP import preprocess_clusters, calculate_arcs, fetch_arcs, cluster_MILP\n",
    "from cluster import kmeans, kmedoids, kmeans_DBSCAN, som_cluster, p_median, recenter_clusters, convert_cluster_centers\n",
    "from IPython.display import IFrame\n",
    "import pickle\n",
    "import json\n",
    "import math\n",
    "import time\n",
    "import numpy as np\n",
    "import pandas as pd\n",
    "from tqdm import tqdm\n",
    "import osmnx as ox\n",
    "import networkx as nx"
   ]
  },
  {
   "cell_type": "markdown",
   "id": "75257011",
   "metadata": {},
   "source": [
    "### Fetch data network and MILP result"
   ]
  },
  {
   "cell_type": "code",
   "execution_count": 2,
   "id": "a8895a11",
   "metadata": {},
   "outputs": [
    {
     "data": {
      "application/vnd.jupyter.widget-view+json": {
       "model_id": "5f3883d4dde749519e55a6f25653b25f",
       "version_major": 2,
       "version_minor": 0
      },
      "text/plain": [
       "  0%|          | 0/113 [00:00<?, ?it/s]"
      ]
     },
     "metadata": {},
     "output_type": "display_data"
    },
    {
     "data": {
      "application/vnd.jupyter.widget-view+json": {
       "model_id": "03df4273d5b840918f7a83b4b321ed76",
       "version_major": 2,
       "version_minor": 0
      },
      "text/plain": [
       "  0%|          | 0/12769 [00:00<?, ?it/s]"
      ]
     },
     "metadata": {},
     "output_type": "display_data"
    }
   ],
   "source": [
    "data, vertices, arcs, V_d, V_c, F, alpha, K, Q, demands = fetch_all_dataset(\"LA\")\n",
    "with open('./Solution/LA_r9_k5_kmeans_cluster_result.pickle', 'rb') as handle:\n",
    "    cluster_result = pickle.load(handle)\n",
    "\n",
    "result_dict = json.load(open(\"./Solution/LA_r9_k5_kmeans_cluster_result.json\", 'r'))"
   ]
  },
  {
   "cell_type": "markdown",
   "id": "689fbf42",
   "metadata": {},
   "source": [
    "### Fetch OSMnx Graph"
   ]
  },
  {
   "cell_type": "code",
   "execution_count": 4,
   "id": "b4fe5238",
   "metadata": {},
   "outputs": [],
   "source": [
    "greater_la_streets_box = ox.graph.graph_from_xml(filepath='./Data/LA_bbox.osm')\n",
    "chicago_neibor = ox.graph.graph_from_xml(filepath='./Data/Chicago_bbox.osm')\n",
    "G8 = ox.graph.graph_from_xml(filepath='./Data/King County.osm')\n",
    "G = nx.union_all([greater_la_streets_box, chicago_neibor, G8])\n",
    "# G = ox.graph.graph_from_xml(filepath='./Data/Paris.osm')\n",
    "# G = ox.graph.graph_from_xml(filepath='./Data/Shanghai.osm')"
   ]
  },
  {
   "cell_type": "markdown",
   "id": "3ba5cb1e",
   "metadata": {},
   "source": [
    "## Print Routes"
   ]
  },
  {
   "cell_type": "code",
   "execution_count": null,
   "id": "feacf940",
   "metadata": {},
   "outputs": [],
   "source": [
    "file_name = \"LA_r9_k5_result\"\n",
    "osm_print_cluster_tours(data, G, cluster_result, result_dict, COLOR_LIST, file_name)\n",
    "IFrame(src=f'.\\\\Solution\\\\{file_name}.html', width=1000, height=800)"
   ]
  }
 ],
 "metadata": {
  "kernelspec": {
   "display_name": "Python 3 (ipykernel)",
   "language": "python",
   "name": "python3"
  },
  "language_info": {
   "codemirror_mode": {
    "name": "ipython",
    "version": 3
   },
   "file_extension": ".py",
   "mimetype": "text/x-python",
   "name": "python",
   "nbconvert_exporter": "python",
   "pygments_lexer": "ipython3",
   "version": "3.9.13"
  }
 },
 "nbformat": 4,
 "nbformat_minor": 5
}
