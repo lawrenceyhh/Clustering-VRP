{
 "cells": [
  {
   "cell_type": "code",
   "execution_count": 1,
   "id": "11753e2f",
   "metadata": {},
   "outputs": [],
   "source": [
    "import os\n",
    "\n",
    "os.environ[\"OMP_NUM_THREADS\"] = \"1\""
   ]
  },
  {
   "cell_type": "code",
   "execution_count": 2,
   "id": "56530c45",
   "metadata": {
    "pycharm": {
     "name": "#%%\n"
    }
   },
   "outputs": [],
   "source": [
    "from Models import run_F4\n",
    "from Data.Data_Parser import fetch_all_dataset\n",
    "from Solution.Map_Printer import osm_print_cluster_tours, COLOR_LIST\n",
    "from Cluster_MILP import preprocess_clusters, calculate_arcs, fetch_arcs, cluster_MILP\n",
    "from cluster import kmeans, kmedoids, kmeans_DBSCAN, som_cluster, p_median\n",
    "from IPython.display import IFrame\n",
    "import pickle\n",
    "import json\n",
    "import math\n",
    "import numpy as np\n",
    "import pandas as pd\n",
    "\n",
    "%load_ext autoreload\n",
    "%autoreload 2"
   ]
  },
  {
   "cell_type": "markdown",
   "id": "096b03c2",
   "metadata": {},
   "source": [
    "### Do cluster here"
   ]
  },
  {
   "cell_type": "code",
   "execution_count": 7,
   "id": "dbc193b5",
   "metadata": {},
   "outputs": [
    {
     "data": {
      "application/vnd.jupyter.widget-view+json": {
       "model_id": "a07f6485676542f4902a31b3ddb55d32",
       "version_major": 2,
       "version_minor": 0
      },
      "text/plain": [
       "  0%|          | 0/113 [00:00<?, ?it/s]"
      ]
     },
     "metadata": {},
     "output_type": "display_data"
    },
    {
     "data": {
      "application/vnd.jupyter.widget-view+json": {
       "model_id": "9e5390d910da4cdc8e5f9973d31ed6ec",
       "version_major": 2,
       "version_minor": 0
      },
      "text/plain": [
       "  0%|          | 0/12769 [00:00<?, ?it/s]"
      ]
     },
     "metadata": {},
     "output_type": "display_data"
    }
   ],
   "source": [
    "data, vertices, arcs, V_d, V_c, F, alpha, K, Q, demands = fetch_all_dataset(\"Paris\")"
   ]
  },
  {
   "cell_type": "code",
   "execution_count": 8,
   "id": "07a6fd60",
   "metadata": {
    "scrolled": true
   },
   "outputs": [],
   "source": [
    "cluster_result = p_median(data, V_c, 9, runtime_limit=1800, print_out=False)\n",
    "# _, cluster_result = kmeans(data) # new center\n",
    "# cluster_result = kmedoids(data, 10)\n",
    "# cluster_result = kmeans_DBSCAN(data) # new center\n",
    "\n",
    "# df = pd.read_csv(\".\\\\Data\\\\Paris.nodes\", sep=' ')\n",
    "# cluster_result = som_cluster(data, df, map_shape=(3, 3), num_iteration=100000)"
   ]
  },
  {
   "cell_type": "code",
   "execution_count": 9,
   "id": "304b58c0",
   "metadata": {
    "scrolled": false
   },
   "outputs": [
    {
     "name": "stdout",
     "output_type": "stream",
     "text": [
      "Set parameter TimeLimit to value 300\n",
      "Gurobi Optimizer version 9.5.1 build v9.5.1rc2 (win64)\n",
      "Thread count: 6 physical cores, 12 logical processors, using up to 12 threads\n",
      "Optimize a model with 1948 rows, 1218 columns and 9327 nonzeros\n",
      "Model fingerprint: 0x5b2e0187\n",
      "Variable types: 588 continuous, 630 integer (630 binary)\n",
      "Coefficient statistics:\n",
      "  Matrix range     [1e+00, 1e+04]\n",
      "  Objective range  [1e+02, 2e+05]\n",
      "  Bounds range     [1e+00, 1e+00]\n",
      "  RHS range        [1e+00, 5e+04]\n",
      "Presolve removed 1219 rows and 649 columns\n",
      "Presolve time: 0.04s\n",
      "Presolved: 729 rows, 569 columns, 5177 nonzeros\n",
      "Variable types: 261 continuous, 308 integer (308 binary)\n",
      "Found heuristic solution: objective 2471681.3183\n",
      "Found heuristic solution: objective 1418089.2502\n",
      "\n",
      "Root relaxation: objective 7.969118e+05, 911 iterations, 0.02 seconds (0.02 work units)\n",
      "\n",
      "    Nodes    |    Current Node    |     Objective Bounds      |     Work\n",
      " Expl Unexpl |  Obj  Depth IntInf | Incumbent    BestBd   Gap | It/Node Time\n",
      "\n",
      "     0     0 796911.787    0   65 1418089.25 796911.787  43.8%     -    0s\n",
      "H    0     0                    1012107.2938 796911.787  21.3%     -    0s\n",
      "H    0     0                    1011788.7699 796911.787  21.2%     -    0s\n",
      "H    0     0                    1011285.4941 809624.908  19.9%     -    0s\n",
      "     0     0 809624.908    0   39 1011285.49 809624.908  19.9%     -    0s\n",
      "H    0     0                    960661.07140 809624.908  15.7%     -    0s\n",
      "     0     0 809624.908    0   39 960661.071 809624.908  15.7%     -    0s\n",
      "     0     0 809931.732    0   38 960661.071 809931.732  15.7%     -    0s\n",
      "     0     0 809933.930    0   38 960661.071 809933.930  15.7%     -    0s\n",
      "     0     0 809936.735    0   41 960661.071 809936.735  15.7%     -    0s\n",
      "     0     0 809936.735    0   42 960661.071 809936.735  15.7%     -    0s\n",
      "     0     0 809937.945    0   45 960661.071 809937.945  15.7%     -    0s\n",
      "     0     0 809937.945    0   45 960661.071 809937.945  15.7%     -    0s\n",
      "     0     2 809939.760    0   45 960661.071 809939.760  15.7%     -    0s\n",
      "H   34    41                    960501.04871 809972.611  15.7%  45.1    0s\n",
      "H  158   151                    813230.87455 809972.611  0.40%  37.7    0s\n",
      "H  161   151                    812740.54556 809972.611  0.34%  37.9    0s\n",
      "*  595   370              21    811958.29974 810034.422  0.24%  31.2    0s\n",
      "* 1222   649              16    811902.35661 810101.504  0.22%  28.6    1s\n",
      "H 1365   664                    810867.11547 810127.145  0.09%  29.1    1s\n",
      "H 1383   641                    810750.93521 810129.948  0.08%  28.8    1s\n",
      "H 1403   622                    810709.67682 810217.009  0.06%  29.5    1s\n",
      "\n",
      "Cutting planes:\n",
      "  Gomory: 1\n",
      "  Cover: 2\n",
      "  Clique: 1\n",
      "  MIR: 30\n",
      "  Flow cover: 27\n",
      "  GUB cover: 3\n",
      "  Inf proof: 2\n",
      "  Zero half: 4\n",
      "  RLT: 1\n",
      "\n",
      "Explored 2119 nodes (59260 simplex iterations) in 2.65 seconds (1.72 work units)\n",
      "Thread count was 12 (of 12 available processors)\n",
      "\n",
      "Solution count 10: 810710 810751 810867 ... 1.01129e+06\n",
      "\n",
      "Optimal solution found (tolerance 1.00e-04)\n",
      "Best objective 8.107096768245e+05, best bound 8.107096768245e+05, gap 0.0000%\n",
      "Objective: 810709.6768244904\n",
      "D0 P1\n",
      "D0 P6\n",
      "D0 P7\n",
      "D0 P8\n",
      "P0 C2\n",
      "P1 P2\n",
      "P2 C59\n",
      "C59 C106\n",
      "C106 D0\n",
      "P3 P4\n",
      "P4 D0\n",
      "P5 D0\n",
      "P6 D0\n",
      "P7 C44\n",
      "C44 P3\n",
      "P8 P0\n",
      "C2 P5\n"
     ]
    }
   ],
   "source": [
    "result_dict, new_vertices, new_demands = cluster_MILP(data, vertices, arcs, F, alpha, K, Q, demands, \n",
    "             cluster_result, radius=5, runtime_limit=300, gap_acceptance=None, print_out=True)"
   ]
  },
  {
   "cell_type": "code",
   "execution_count": null,
   "id": "73f0f66c",
   "metadata": {},
   "outputs": [],
   "source": [
    "# with open('.\\\\ClusteredResult\\\\som_cluster_result.pickle', 'wb') as handle:\n",
    "#     pickle.dump(cluster_result, handle)"
   ]
  },
  {
   "cell_type": "markdown",
   "id": "5f2ded81",
   "metadata": {},
   "source": [
    "### Fetch data network and cluster result"
   ]
  },
  {
   "cell_type": "code",
   "execution_count": null,
   "id": "ef94eb7a",
   "metadata": {},
   "outputs": [],
   "source": [
    "cluster_result_path = \".\\\\ClusteredResult\\\\kmed_result.pickle\"\n",
    "data, vertices, arcs, V_d, V_c, F, alpha, K, Q, demands, G = fetch_all_dataset()\n",
    "cluster_result = pickle.load(open(cluster_result_path, \"rb\"))"
   ]
  },
  {
   "cell_type": "code",
   "execution_count": null,
   "id": "a89c930b",
   "metadata": {},
   "outputs": [],
   "source": [
    "radius = 5"
   ]
  },
  {
   "cell_type": "code",
   "execution_count": null,
   "id": "7a909014",
   "metadata": {},
   "outputs": [],
   "source": [
    "network, vertices, demands, center_lookup = preprocess_clusters(data, demands, cluster_result, radius)"
   ]
  },
  {
   "cell_type": "code",
   "execution_count": null,
   "id": "19892f98",
   "metadata": {},
   "outputs": [],
   "source": [
    "arcs = fetch_arcs(network, vertices, center_lookup)"
   ]
  },
  {
   "cell_type": "markdown",
   "id": "28533b42",
   "metadata": {},
   "source": [
    "### Run the MILP model"
   ]
  },
  {
   "cell_type": "code",
   "execution_count": null,
   "id": "d08de8b3",
   "metadata": {},
   "outputs": [],
   "source": [
    "least_vehicles_needed = math.ceil(max(_demands.values()) / Q[0])\n",
    "_Q = np.array(Q) * least_vehicles_needed\n",
    "_F = np.array(F) * least_vehicles_needed\n",
    "_alpha = np.array(alpha) * least_vehicles_needed"
   ]
  },
  {
   "cell_type": "code",
   "execution_count": null,
   "id": "76c170c1",
   "metadata": {},
   "outputs": [],
   "source": [
    "least_vehicles_needed = math.ceil(max(_demands.values()) / Q[0])\n",
    "_Q = np.array([np.array(Q) * i for i in range(1, least_vehicles_needed + 1)]).reshape(1, -1)[0]\n",
    "_F = np.array([np.array(F) * i for i in range(1, least_vehicles_needed + 1)]).reshape(1, -1)[0]\n",
    "_alpha = np.array([np.array(alpha) * i for i in range(1, least_vehicles_needed + 1)]).reshape(1, -1)[0]\n",
    "_K = list(range(len(_Q)))"
   ]
  },
  {
   "cell_type": "code",
   "execution_count": null,
   "id": "9280a659",
   "metadata": {
    "scrolled": true
   },
   "outputs": [],
   "source": [
    "V_d = [v for v in vertices if v.startswith(\"D\")]\n",
    "V_c = [v for v in vertices if v not in V_d]\n",
    "\n",
    "objective_value, solution, runtime, mip_gap = run_F4(demands, vertices, arcs, V_d, V_c, _F, _alpha, _K, _Q,\n",
    "                                                     runtime_limit=300, print_out=True)\n",
    "print(objective_value)\n",
    "print(runtime)\n",
    "print(mip_gap)\n",
    "result_dict = {\n",
    "    \"obj_value\": objective_value,\n",
    "    \"runtime\": runtime,\n",
    "    \"mip_gap\": mip_gap,\n",
    "    \"solution\": solution\n",
    "}"
   ]
  },
  {
   "cell_type": "code",
   "execution_count": null,
   "id": "78b1e8bc",
   "metadata": {},
   "outputs": [],
   "source": [
    "result_dict"
   ]
  },
  {
   "cell_type": "code",
   "execution_count": null,
   "id": "0c18ffdd",
   "metadata": {},
   "outputs": [],
   "source": [
    "# store the result\n",
    "json.dump(result_dict, open(\".\\\\Solution\\\\paris_km_r5_result.json\", 'w'))"
   ]
  },
  {
   "cell_type": "markdown",
   "id": "97dc54c2",
   "metadata": {},
   "source": [
    "### Print the map"
   ]
  },
  {
   "cell_type": "code",
   "execution_count": null,
   "id": "5fb140d6",
   "metadata": {},
   "outputs": [],
   "source": [
    "file_name = \"paris_km_r5_result\""
   ]
  },
  {
   "cell_type": "code",
   "execution_count": null,
   "id": "0699bda1",
   "metadata": {
    "scrolled": false
   },
   "outputs": [],
   "source": [
    "osm_print_cluster_tours(network, G, cluster_result, result_dict, COLOR_LIST, file_name)"
   ]
  },
  {
   "cell_type": "code",
   "execution_count": null,
   "id": "8cc43048",
   "metadata": {
    "scrolled": false
   },
   "outputs": [],
   "source": [
    "IFrame(src=f'.\\\\Solution\\\\{file_name}.html', width=1000, height=800)"
   ]
  }
 ],
 "metadata": {
  "kernelspec": {
   "display_name": "Python 3 (ipykernel)",
   "language": "python",
   "name": "python3"
  },
  "language_info": {
   "codemirror_mode": {
    "name": "ipython",
    "version": 3
   },
   "file_extension": ".py",
   "mimetype": "text/x-python",
   "name": "python",
   "nbconvert_exporter": "python",
   "pygments_lexer": "ipython3",
   "version": "3.9.12"
  }
 },
 "nbformat": 4,
 "nbformat_minor": 5
}
